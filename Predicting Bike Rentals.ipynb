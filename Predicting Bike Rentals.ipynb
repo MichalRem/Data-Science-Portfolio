{
 "cells": [
  {
   "cell_type": "markdown",
   "metadata": {},
   "source": [
    "# Predicting Bike Rentals"
   ]
  },
  {
   "cell_type": "markdown",
   "metadata": {},
   "source": [
    "In this project we are going to predict the total number of communal bikes people rented in a given hour. For prediction we will use Machine Learning models, such as: Linear Regression, Decision Tree and Random Forest. We will use data from University of Porto (http://archive.ics.uci.edu/ml/datasets/Bike+Sharing+Dataset). The data set contains 17380 rows. Relevant columns are described below:\n",
    "- **instant** - A unique sequential ID number for each row\n",
    "- **dteday** - The date of the rentals\n",
    "- **season** - The season in which the rentals occurred (1:springer, 2:summer, 3:fall, 4:winter)\n",
    "- **yr** - The year the rentals occurred (0: 2011, 1:2012)\n",
    "- **mnth** - The month the rentals occurred (1 to 12)\n",
    "- **hr** - The hour the rentals occurred (0 to 23)\n",
    "- **holiday** - Whether or not the day was a holiday\n",
    "- **weekday** - The day of the week\n",
    "- **workingday** - Whether or not the day was a working day (if day is neither weekend nor holiday is 1, otherwise is 0)\n",
    "- **weathersit** - The weather (as a categorical variable):\n",
    "    - 1: Clear, Few clouds, Partly cloudy, Partly cloudy\n",
    "    - 2: Mist + Cloudy, Mist + Broken clouds, Mist + Few clouds, Mist\n",
    "    - 3: Light Snow, Light Rain + Thunderstorm + Scattered clouds, Light Rain + Scattered clouds\n",
    "    - 4: Heavy Rain + Ice Pallets + Thunderstorm + Mist, Snow + Fog\n",
    "    \n",
    "    \n",
    "- **temp** - The temperature, on a 0-1 scale\n",
    "- **atemp** - The adjusted temperature\n",
    "- **hum** - The humidity, on a 0-1 scale\n",
    "- **windspeed** - The wind speed, on a 0-1 scale\n",
    "- **casual** - The number of casual riders (people who hadn't previously signed up with the bike sharing program)\n",
    "- **registered** - The number of registered riders (people who had already signed up)\n",
    "- **cnt** - The total number of bike rentals (casual + registered)\n",
    "\n",
    "Let's start with data exploration!"
   ]
  },
  {
   "cell_type": "markdown",
   "metadata": {},
   "source": [
    "## The Data Set exploration"
   ]
  },
  {
   "cell_type": "code",
   "execution_count": null,
   "metadata": {
    "collapsed": true
   },
   "outputs": [],
   "source": [
    "import pandas as pd\n",
    "bike_rentals = pd.read_csv(r\"Data\\bike_rental_hour.csv\")\n",
    "bike"
   ]
  }
 ],
 "metadata": {
  "kernelspec": {
   "display_name": "Python 3",
   "language": "python",
   "name": "python3"
  },
  "language_info": {
   "codemirror_mode": {
    "name": "ipython",
    "version": 3
   },
   "file_extension": ".py",
   "mimetype": "text/x-python",
   "name": "python",
   "nbconvert_exporter": "python",
   "pygments_lexer": "ipython3",
   "version": "3.6.3"
  }
 },
 "nbformat": 4,
 "nbformat_minor": 2
}
