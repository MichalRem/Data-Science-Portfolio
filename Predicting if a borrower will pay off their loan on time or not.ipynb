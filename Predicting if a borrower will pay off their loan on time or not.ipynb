{
 "cells": [
  {
   "cell_type": "markdown",
   "metadata": {},
   "source": [
    "# Predicting if a borrower will pay off their loan on time or not"
   ]
  },
  {
   "cell_type": "markdown",
   "metadata": {},
   "source": [
    "In this project we will focus on credit modelling for Lending Club, which is a marketplace for personal loans that matches borrowers who are seeking a loan with investors looking to lend money and make a return. We will be working with financial lending data.\n",
    "\n",
    "Each borrower fills out a comprehensive application, providing their past financial history, the reason for the loan, and more. Lending Club evaluates each borrower's credit score using past historical data (and their own data science process!) and assign an interest rate to the borrower. The interest rate is the percent in addition to the requested loan amount the borrower has to pay back.\n",
    "\n",
    "**The goal of this project it to build a machine learning model that can accurately predict if a borrower will pay off their loan on time or not.**"
   ]
  },
  {
   "cell_type": "markdown",
   "metadata": {},
   "source": [
    "## Reading the data"
   ]
  },
  {
   "cell_type": "code",
   "execution_count": 78,
   "metadata": {},
   "outputs": [
    {
     "data": {
      "text/html": [
       "<div>\n",
       "<style>\n",
       "    .dataframe thead tr:only-child th {\n",
       "        text-align: right;\n",
       "    }\n",
       "\n",
       "    .dataframe thead th {\n",
       "        text-align: left;\n",
       "    }\n",
       "\n",
       "    .dataframe tbody tr th {\n",
       "        vertical-align: top;\n",
       "    }\n",
       "</style>\n",
       "<table border=\"1\" class=\"dataframe\">\n",
       "  <thead>\n",
       "    <tr style=\"text-align: right;\">\n",
       "      <th></th>\n",
       "      <th>loan_amnt</th>\n",
       "      <th>funded_amnt</th>\n",
       "      <th>funded_amnt_inv</th>\n",
       "      <th>term</th>\n",
       "      <th>int_rate</th>\n",
       "      <th>installment</th>\n",
       "      <th>grade</th>\n",
       "      <th>sub_grade</th>\n",
       "      <th>emp_title</th>\n",
       "      <th>emp_length</th>\n",
       "      <th>home_ownership</th>\n",
       "      <th>annual_inc</th>\n",
       "      <th>verification_status</th>\n",
       "      <th>issue_d</th>\n",
       "      <th>loan_status</th>\n",
       "      <th>pymnt_plan</th>\n",
       "      <th>purpose</th>\n",
       "      <th>title</th>\n",
       "      <th>zip_code</th>\n",
       "      <th>addr_state</th>\n",
       "      <th>dti</th>\n",
       "      <th>delinq_2yrs</th>\n",
       "      <th>earliest_cr_line</th>\n",
       "      <th>inq_last_6mths</th>\n",
       "      <th>open_acc</th>\n",
       "      <th>pub_rec</th>\n",
       "      <th>revol_bal</th>\n",
       "      <th>revol_util</th>\n",
       "      <th>total_acc</th>\n",
       "      <th>initial_list_status</th>\n",
       "      <th>out_prncp</th>\n",
       "      <th>out_prncp_inv</th>\n",
       "      <th>total_pymnt</th>\n",
       "      <th>total_pymnt_inv</th>\n",
       "      <th>total_rec_prncp</th>\n",
       "      <th>total_rec_int</th>\n",
       "      <th>total_rec_late_fee</th>\n",
       "      <th>recoveries</th>\n",
       "      <th>collection_recovery_fee</th>\n",
       "      <th>last_pymnt_d</th>\n",
       "      <th>last_pymnt_amnt</th>\n",
       "      <th>last_credit_pull_d</th>\n",
       "      <th>collections_12_mths_ex_med</th>\n",
       "      <th>policy_code</th>\n",
       "      <th>application_type</th>\n",
       "      <th>acc_now_delinq</th>\n",
       "      <th>chargeoff_within_12_mths</th>\n",
       "      <th>delinq_amnt</th>\n",
       "      <th>pub_rec_bankruptcies</th>\n",
       "      <th>tax_liens</th>\n",
       "      <th>hardship_flag</th>\n",
       "      <th>disbursement_method</th>\n",
       "      <th>debt_settlement_flag</th>\n",
       "    </tr>\n",
       "  </thead>\n",
       "  <tbody>\n",
       "    <tr>\n",
       "      <th>0</th>\n",
       "      <td>5000.0</td>\n",
       "      <td>5000.0</td>\n",
       "      <td>4975.0</td>\n",
       "      <td>36 months</td>\n",
       "      <td>10.65%</td>\n",
       "      <td>162.87</td>\n",
       "      <td>B</td>\n",
       "      <td>B2</td>\n",
       "      <td>NaN</td>\n",
       "      <td>10+ years</td>\n",
       "      <td>RENT</td>\n",
       "      <td>24000.0</td>\n",
       "      <td>Verified</td>\n",
       "      <td>Dec-2011</td>\n",
       "      <td>Fully Paid</td>\n",
       "      <td>n</td>\n",
       "      <td>credit_card</td>\n",
       "      <td>Computer</td>\n",
       "      <td>860xx</td>\n",
       "      <td>AZ</td>\n",
       "      <td>27.65</td>\n",
       "      <td>0.0</td>\n",
       "      <td>Jan-1985</td>\n",
       "      <td>1.0</td>\n",
       "      <td>3.0</td>\n",
       "      <td>0.0</td>\n",
       "      <td>13648.0</td>\n",
       "      <td>83.7%</td>\n",
       "      <td>9.0</td>\n",
       "      <td>f</td>\n",
       "      <td>0.0</td>\n",
       "      <td>0.0</td>\n",
       "      <td>5863.155187</td>\n",
       "      <td>5833.84</td>\n",
       "      <td>5000.00</td>\n",
       "      <td>863.16</td>\n",
       "      <td>0.0</td>\n",
       "      <td>0.0</td>\n",
       "      <td>0.00</td>\n",
       "      <td>Jan-2015</td>\n",
       "      <td>171.62</td>\n",
       "      <td>Jun-2018</td>\n",
       "      <td>0.0</td>\n",
       "      <td>1.0</td>\n",
       "      <td>Individual</td>\n",
       "      <td>0.0</td>\n",
       "      <td>0.0</td>\n",
       "      <td>0.0</td>\n",
       "      <td>0.0</td>\n",
       "      <td>0.0</td>\n",
       "      <td>N</td>\n",
       "      <td>Cash</td>\n",
       "      <td>N</td>\n",
       "    </tr>\n",
       "    <tr>\n",
       "      <th>1</th>\n",
       "      <td>2500.0</td>\n",
       "      <td>2500.0</td>\n",
       "      <td>2500.0</td>\n",
       "      <td>60 months</td>\n",
       "      <td>15.27%</td>\n",
       "      <td>59.83</td>\n",
       "      <td>C</td>\n",
       "      <td>C4</td>\n",
       "      <td>Ryder</td>\n",
       "      <td>&lt; 1 year</td>\n",
       "      <td>RENT</td>\n",
       "      <td>30000.0</td>\n",
       "      <td>Source Verified</td>\n",
       "      <td>Dec-2011</td>\n",
       "      <td>Charged Off</td>\n",
       "      <td>n</td>\n",
       "      <td>car</td>\n",
       "      <td>bike</td>\n",
       "      <td>309xx</td>\n",
       "      <td>GA</td>\n",
       "      <td>1.00</td>\n",
       "      <td>0.0</td>\n",
       "      <td>Apr-1999</td>\n",
       "      <td>5.0</td>\n",
       "      <td>3.0</td>\n",
       "      <td>0.0</td>\n",
       "      <td>1687.0</td>\n",
       "      <td>9.4%</td>\n",
       "      <td>4.0</td>\n",
       "      <td>f</td>\n",
       "      <td>0.0</td>\n",
       "      <td>0.0</td>\n",
       "      <td>1014.530000</td>\n",
       "      <td>1014.53</td>\n",
       "      <td>456.46</td>\n",
       "      <td>435.17</td>\n",
       "      <td>0.0</td>\n",
       "      <td>122.9</td>\n",
       "      <td>1.11</td>\n",
       "      <td>Apr-2013</td>\n",
       "      <td>119.66</td>\n",
       "      <td>Oct-2016</td>\n",
       "      <td>0.0</td>\n",
       "      <td>1.0</td>\n",
       "      <td>Individual</td>\n",
       "      <td>0.0</td>\n",
       "      <td>0.0</td>\n",
       "      <td>0.0</td>\n",
       "      <td>0.0</td>\n",
       "      <td>0.0</td>\n",
       "      <td>N</td>\n",
       "      <td>Cash</td>\n",
       "      <td>N</td>\n",
       "    </tr>\n",
       "    <tr>\n",
       "      <th>2</th>\n",
       "      <td>2400.0</td>\n",
       "      <td>2400.0</td>\n",
       "      <td>2400.0</td>\n",
       "      <td>36 months</td>\n",
       "      <td>15.96%</td>\n",
       "      <td>84.33</td>\n",
       "      <td>C</td>\n",
       "      <td>C5</td>\n",
       "      <td>NaN</td>\n",
       "      <td>10+ years</td>\n",
       "      <td>RENT</td>\n",
       "      <td>12252.0</td>\n",
       "      <td>Not Verified</td>\n",
       "      <td>Dec-2011</td>\n",
       "      <td>Fully Paid</td>\n",
       "      <td>n</td>\n",
       "      <td>small_business</td>\n",
       "      <td>real estate business</td>\n",
       "      <td>606xx</td>\n",
       "      <td>IL</td>\n",
       "      <td>8.72</td>\n",
       "      <td>0.0</td>\n",
       "      <td>Nov-2001</td>\n",
       "      <td>2.0</td>\n",
       "      <td>2.0</td>\n",
       "      <td>0.0</td>\n",
       "      <td>2956.0</td>\n",
       "      <td>98.5%</td>\n",
       "      <td>10.0</td>\n",
       "      <td>f</td>\n",
       "      <td>0.0</td>\n",
       "      <td>0.0</td>\n",
       "      <td>3005.666844</td>\n",
       "      <td>3005.67</td>\n",
       "      <td>2400.00</td>\n",
       "      <td>605.67</td>\n",
       "      <td>0.0</td>\n",
       "      <td>0.0</td>\n",
       "      <td>0.00</td>\n",
       "      <td>Jun-2014</td>\n",
       "      <td>649.91</td>\n",
       "      <td>Jun-2017</td>\n",
       "      <td>0.0</td>\n",
       "      <td>1.0</td>\n",
       "      <td>Individual</td>\n",
       "      <td>0.0</td>\n",
       "      <td>0.0</td>\n",
       "      <td>0.0</td>\n",
       "      <td>0.0</td>\n",
       "      <td>0.0</td>\n",
       "      <td>N</td>\n",
       "      <td>Cash</td>\n",
       "      <td>N</td>\n",
       "    </tr>\n",
       "  </tbody>\n",
       "</table>\n",
       "</div>"
      ],
      "text/plain": [
       "   loan_amnt  funded_amnt  funded_amnt_inv        term int_rate  installment  \\\n",
       "0     5000.0       5000.0           4975.0   36 months   10.65%       162.87   \n",
       "1     2500.0       2500.0           2500.0   60 months   15.27%        59.83   \n",
       "2     2400.0       2400.0           2400.0   36 months   15.96%        84.33   \n",
       "\n",
       "  grade sub_grade emp_title emp_length home_ownership  annual_inc  \\\n",
       "0     B        B2       NaN  10+ years           RENT     24000.0   \n",
       "1     C        C4     Ryder   < 1 year           RENT     30000.0   \n",
       "2     C        C5       NaN  10+ years           RENT     12252.0   \n",
       "\n",
       "  verification_status   issue_d  loan_status pymnt_plan         purpose  \\\n",
       "0            Verified  Dec-2011   Fully Paid          n     credit_card   \n",
       "1     Source Verified  Dec-2011  Charged Off          n             car   \n",
       "2        Not Verified  Dec-2011   Fully Paid          n  small_business   \n",
       "\n",
       "                  title zip_code addr_state    dti  delinq_2yrs  \\\n",
       "0              Computer    860xx         AZ  27.65          0.0   \n",
       "1                  bike    309xx         GA   1.00          0.0   \n",
       "2  real estate business    606xx         IL   8.72          0.0   \n",
       "\n",
       "  earliest_cr_line  inq_last_6mths  open_acc  pub_rec  revol_bal revol_util  \\\n",
       "0         Jan-1985             1.0       3.0      0.0    13648.0      83.7%   \n",
       "1         Apr-1999             5.0       3.0      0.0     1687.0       9.4%   \n",
       "2         Nov-2001             2.0       2.0      0.0     2956.0      98.5%   \n",
       "\n",
       "   total_acc initial_list_status  out_prncp  out_prncp_inv  total_pymnt  \\\n",
       "0        9.0                   f        0.0            0.0  5863.155187   \n",
       "1        4.0                   f        0.0            0.0  1014.530000   \n",
       "2       10.0                   f        0.0            0.0  3005.666844   \n",
       "\n",
       "   total_pymnt_inv  total_rec_prncp  total_rec_int  total_rec_late_fee  \\\n",
       "0          5833.84          5000.00         863.16                 0.0   \n",
       "1          1014.53           456.46         435.17                 0.0   \n",
       "2          3005.67          2400.00         605.67                 0.0   \n",
       "\n",
       "   recoveries  collection_recovery_fee last_pymnt_d  last_pymnt_amnt  \\\n",
       "0         0.0                     0.00     Jan-2015           171.62   \n",
       "1       122.9                     1.11     Apr-2013           119.66   \n",
       "2         0.0                     0.00     Jun-2014           649.91   \n",
       "\n",
       "  last_credit_pull_d  collections_12_mths_ex_med  policy_code  \\\n",
       "0           Jun-2018                         0.0          1.0   \n",
       "1           Oct-2016                         0.0          1.0   \n",
       "2           Jun-2017                         0.0          1.0   \n",
       "\n",
       "  application_type  acc_now_delinq  chargeoff_within_12_mths  delinq_amnt  \\\n",
       "0       Individual             0.0                       0.0          0.0   \n",
       "1       Individual             0.0                       0.0          0.0   \n",
       "2       Individual             0.0                       0.0          0.0   \n",
       "\n",
       "   pub_rec_bankruptcies  tax_liens hardship_flag disbursement_method  \\\n",
       "0                   0.0        0.0             N                Cash   \n",
       "1                   0.0        0.0             N                Cash   \n",
       "2                   0.0        0.0             N                Cash   \n",
       "\n",
       "  debt_settlement_flag  \n",
       "0                    N  \n",
       "1                    N  \n",
       "2                    N  "
      ]
     },
     "execution_count": 78,
     "metadata": {},
     "output_type": "execute_result"
    }
   ],
   "source": [
    "import pandas as pd\n",
    "pd.options.display.max_columns = 100\n",
    "\n",
    "#Reading the data without first row, which contains just unuseful text\n",
    "loans = pd.read_csv(r\"Data\\LoanStats3a.csv\", skiprows=1, low_memory=0)\n",
    "\n",
    "#Removing all columns containing more than 50% missing values\n",
    "half_count = len(loans) / 2\n",
    "loans = loans.dropna(thresh=half_count, axis=1)\n",
    "\n",
    "#Removing 'desc' column, which contains a long text explanation for each loan\n",
    "loans = loans.drop(['desc'],axis=1)\n",
    "\n",
    "#Let's save our cleaned data\n",
    "loans.to_csv('Data\\loans.csv', index=False)\n",
    "\n",
    "loans.head(3)"
   ]
  },
  {
   "cell_type": "code",
   "execution_count": 79,
   "metadata": {},
   "outputs": [
    {
     "data": {
      "text/plain": [
       "(42538, 53)"
      ]
     },
     "execution_count": 79,
     "metadata": {},
     "output_type": "execute_result"
    }
   ],
   "source": [
    "loans.shape"
   ]
  },
  {
   "cell_type": "markdown",
   "metadata": {},
   "source": [
    "## Data Cleaning"
   ]
  },
  {
   "cell_type": "markdown",
   "metadata": {},
   "source": [
    "We will start with removing the columns that will not be useful for our ML model, due to:\n",
    "- leak of information from the future (after the loan has already been funded)\n",
    "- no affection for a borrower's ability to pay back a loan (e.g. a randomly generated ID value by Lending Club)\n",
    "- poor format and need to be cleaned up\n",
    "- require more data or a lot of processing to turn into a useful feature\n",
    "- contain redundant information\n",
    "\n",
    "From the 52 columns we are going to remove the following columns:\n",
    "- **funded_amnt:** leaks data from the future (after the loan is already started to be funded)\n",
    "- **funded_amnt_inv:** also leaks data from the future (after the loan is already started to be funded)\n",
    "- **grade:** contains redundant information as the interest rate column (int_rate)\n",
    "- **sub_grade:** also contains redundant information as the interest rate column (int_rate)\n",
    "- **emp_title:** requires other data and a lot of processing to potentially be useful\n",
    "- **issue_d:** leaks data from the future (after the loan is already completed funded)\n",
    "- **zip_code:** redundant with the addr_state column since only the first 3 digits of the 5 digit zip code are visible (which only can be used to identify the state the borrower lives in)\n",
    "- **out_prncp:** leaks data from the future, (after the loan already started to be paid off)\n",
    "- **out_prncp_inv:** also leaks data from the future, (after the loan already started to be paid off)\n",
    "- **total_pymnt:** also leaks data from the future, (after the loan already started to be paid off)\n",
    "- **total_pymnt_inv:** also leaks data from the future, (after the loan already started to be paid off)\n",
    "- **total_rec_prncp:** also leaks data from the future, (after the loan already started to be paid off)\n",
    "- **total_rec_int:** leaks data from the future, (after the loan already started to be paid off),\n",
    "- **total_rec_late_fee:** also leaks data from the future, (after the loan already started to be paid off),\n",
    "recoveries: also leaks data from the future, (after the loan already started to be paid off),\n",
    "- **collection_recovery_fee:** also leaks data from the future, (after the loan already started to be paid off),\n",
    "- **last_pymnt_d:** also leaks data from the future, (after the loan already started to be paid off),\n",
    "- **last_pymnt_amnt:** also leaks data from the future, (after the loan already started to be paid off),"
   ]
  },
  {
   "cell_type": "code",
   "execution_count": 80,
   "metadata": {},
   "outputs": [
    {
     "name": "stdout",
     "output_type": "stream",
     "text": [
      "loan_amnt                            5000\n",
      "term                            36 months\n",
      "int_rate                           10.65%\n",
      "installment                        162.87\n",
      "emp_length                      10+ years\n",
      "home_ownership                       RENT\n",
      "annual_inc                          24000\n",
      "verification_status              Verified\n",
      "loan_status                    Fully Paid\n",
      "pymnt_plan                              n\n",
      "purpose                       credit_card\n",
      "title                            Computer\n",
      "addr_state                             AZ\n",
      "dti                                 27.65\n",
      "delinq_2yrs                             0\n",
      "earliest_cr_line                 Jan-1985\n",
      "inq_last_6mths                          1\n",
      "open_acc                                3\n",
      "pub_rec                                 0\n",
      "revol_bal                           13648\n",
      "revol_util                          83.7%\n",
      "total_acc                               9\n",
      "initial_list_status                     f\n",
      "last_credit_pull_d               Jun-2018\n",
      "collections_12_mths_ex_med              0\n",
      "policy_code                             1\n",
      "application_type               Individual\n",
      "acc_now_delinq                          0\n",
      "chargeoff_within_12_mths                0\n",
      "delinq_amnt                             0\n",
      "pub_rec_bankruptcies                    0\n",
      "tax_liens                               0\n",
      "hardship_flag                           N\n",
      "disbursement_method                  Cash\n",
      "debt_settlement_flag                    N\n",
      "Name: 0, dtype: object\n",
      "35\n"
     ]
    }
   ],
   "source": [
    "loans = loans.drop(\n",
    "        [\"funded_amnt\", \"funded_amnt_inv\", \"grade\", \"sub_grade\", \"emp_title\", \"issue_d\",\n",
    "        \"zip_code\", \"out_prncp\", \"out_prncp_inv\", \"total_pymnt\", \"total_pymnt_inv\", \"total_rec_prncp\",\n",
    "        \"total_rec_int\", \"total_rec_late_fee\", \"recoveries\", \"collection_recovery_fee\", \"last_pymnt_d\", \"last_pymnt_amnt\"]\n",
    "        , axis=1)\n",
    "print(loans.iloc[0])\n",
    "print(loans.shape[1])"
   ]
  },
  {
   "cell_type": "markdown",
   "metadata": {},
   "source": [
    "We managed to reduce number of columns from 53 to 35. Now let's remove columns that have only one unique value."
   ]
  },
  {
   "cell_type": "code",
   "execution_count": 81,
   "metadata": {},
   "outputs": [
    {
     "name": "stdout",
     "output_type": "stream",
     "text": [
      "['pymnt_plan', 'initial_list_status', 'collections_12_mths_ex_med', 'policy_code', 'application_type', 'chargeoff_within_12_mths', 'hardship_flag', 'disbursement_method']\n",
      "27\n"
     ]
    }
   ],
   "source": [
    "drop_columns = []\n",
    "all_columns = loans.columns\n",
    "for c in all_columns:\n",
    "    not_null = loans[c].dropna()\n",
    "    unique_values = not_null.unique()\n",
    "    num_of_val = len(unique_values)\n",
    "    if num_of_val == 1:\n",
    "        drop_columns.append(c)\n",
    "        \n",
    "loans = loans.drop(drop_columns, axis=1)\n",
    "print(drop_columns)\n",
    "print(loans.shape[1])"
   ]
  },
  {
   "cell_type": "markdown",
   "metadata": {},
   "source": [
    "We reduced number of columns to 27. It's time to choose our target column. The best option seems to be loan_status, let's explore number of values."
   ]
  },
  {
   "cell_type": "code",
   "execution_count": 82,
   "metadata": {},
   "outputs": [
    {
     "data": {
      "text/plain": [
       "Fully Paid                                             34116\n",
       "Charged Off                                             5670\n",
       "Does not meet the credit policy. Status:Fully Paid      1988\n",
       "Does not meet the credit policy. Status:Charged Off      761\n",
       "Name: loan_status, dtype: int64"
      ]
     },
     "execution_count": 82,
     "metadata": {},
     "output_type": "execute_result"
    }
   ],
   "source": [
    "loans[\"loan_status\"].value_counts()"
   ]
  },
  {
   "cell_type": "markdown",
   "metadata": {},
   "source": [
    "We have 4 possible values for loan_status:\n",
    "- **Fully Paid:** Loan has been fully paid off.\n",
    "- **Charged Off:** Loan for which there is no longer a reasonable expectation of further payments.\n",
    "- **Does not meet the credit policy. Status:Fully Paid:** While the loan was paid off, the loan application today would no longer meet the credit policy and wouldn't be approved on to the marketplace.\n",
    "- **Does not meet the credit policy. Status:Charged Off:** While the loan was charged off, the loan application today would no longer meet the credit policy and wouldn't be approved on to the marketplace.\n",
    "\n",
    "From the investor point of view the most interesting are values: Fully Paid and Charged Off, as they describe the final outcome of the loan. We are going to remove the rows where the value for loan_status is different than the two mentioned above. Also we will map our values to numerical values: Fully Paid will be 1 and Charged Off will be 0, so we can use it as target column in our model."
   ]
  },
  {
   "cell_type": "code",
   "execution_count": 83,
   "metadata": {
    "collapsed": true
   },
   "outputs": [],
   "source": [
    "loans = loans[(loans['loan_status'] == 'Fully Paid') | (loans['loan_status'] == 'Charged Off')]\n",
    "loan_status = {\n",
    "    \"loan_status\": {\n",
    "        \"Fully Paid\" : 1,\n",
    "        \"Charged Off\" : 0\n",
    "    }\n",
    "}\n",
    "loans = loans.replace(loan_status)"
   ]
  },
  {
   "cell_type": "markdown",
   "metadata": {},
   "source": [
    "## Preparing the features"
   ]
  },
  {
   "cell_type": "markdown",
   "metadata": {},
   "source": [
    "We are going to prepare the data for machine learning by focusing on handling missing values, converting categorical columns to numeric columns, and removing any other not useful columns. Let's start with counting the missing values."
   ]
  },
  {
   "cell_type": "code",
   "execution_count": 84,
   "metadata": {},
   "outputs": [
    {
     "name": "stdout",
     "output_type": "stream",
     "text": [
      "loan_amnt                 0\n",
      "term                      0\n",
      "int_rate                  0\n",
      "installment               0\n",
      "emp_length                0\n",
      "home_ownership            0\n",
      "annual_inc                0\n",
      "verification_status       0\n",
      "loan_status               0\n",
      "purpose                   0\n",
      "title                    10\n",
      "addr_state                0\n",
      "dti                       0\n",
      "delinq_2yrs               0\n",
      "earliest_cr_line          0\n",
      "inq_last_6mths            0\n",
      "open_acc                  0\n",
      "pub_rec                   0\n",
      "revol_bal                 0\n",
      "revol_util               50\n",
      "total_acc                 0\n",
      "last_credit_pull_d        2\n",
      "acc_now_delinq            0\n",
      "delinq_amnt               0\n",
      "pub_rec_bankruptcies    697\n",
      "tax_liens                39\n",
      "debt_settlement_flag      0\n",
      "dtype: int64\n"
     ]
    }
   ],
   "source": [
    "null_counts = loans.isnull().sum()\n",
    "print(null_counts)"
   ]
  },
  {
   "cell_type": "markdown",
   "metadata": {},
   "source": [
    "Most of the columns have 0 missing values. Just 3 columns have 50 or less missing values and one 'pub_rec_bankruptcies' has 697 missing values. We will follow the rule of removing columns with more than 1% of missing values (in our case it will be just 'pub_rec_bankruptcies') and for the others we will remove rows with missing values."
   ]
  },
  {
   "cell_type": "code",
   "execution_count": 85,
   "metadata": {},
   "outputs": [
    {
     "data": {
      "text/plain": [
       "loan_amnt               0\n",
       "term                    0\n",
       "int_rate                0\n",
       "installment             0\n",
       "emp_length              0\n",
       "home_ownership          0\n",
       "annual_inc              0\n",
       "verification_status     0\n",
       "loan_status             0\n",
       "purpose                 0\n",
       "title                   0\n",
       "addr_state              0\n",
       "dti                     0\n",
       "delinq_2yrs             0\n",
       "earliest_cr_line        0\n",
       "inq_last_6mths          0\n",
       "open_acc                0\n",
       "pub_rec                 0\n",
       "revol_bal               0\n",
       "revol_util              0\n",
       "total_acc               0\n",
       "last_credit_pull_d      0\n",
       "acc_now_delinq          0\n",
       "delinq_amnt             0\n",
       "tax_liens               0\n",
       "debt_settlement_flag    0\n",
       "dtype: int64"
      ]
     },
     "execution_count": 85,
     "metadata": {},
     "output_type": "execute_result"
    }
   ],
   "source": [
    "loans = loans.drop(['pub_rec_bankruptcies'], axis=1)\n",
    "loans = loans.dropna()\n",
    "loans.isnull().sum()"
   ]
  },
  {
   "cell_type": "code",
   "execution_count": 86,
   "metadata": {},
   "outputs": [
    {
     "name": "stdout",
     "output_type": "stream",
     "text": [
      "float64    13\n",
      "object     12\n",
      "int64       1\n",
      "dtype: int64\n"
     ]
    }
   ],
   "source": [
    "#Let's check how many columns do we have in different data types.\n",
    "print(loans.dtypes.value_counts())"
   ]
  },
  {
   "cell_type": "code",
   "execution_count": 87,
   "metadata": {},
   "outputs": [
    {
     "name": "stdout",
     "output_type": "stream",
     "text": [
      "term                      36 months\n",
      "int_rate                     10.65%\n",
      "emp_length                10+ years\n",
      "home_ownership                 RENT\n",
      "verification_status        Verified\n",
      "purpose                 credit_card\n",
      "title                      Computer\n",
      "addr_state                       AZ\n",
      "earliest_cr_line           Jan-1985\n",
      "revol_util                    83.7%\n",
      "last_credit_pull_d         Jun-2018\n",
      "debt_settlement_flag              N\n",
      "Name: 0, dtype: object\n"
     ]
    }
   ],
   "source": [
    "#We have 12 columns in object data type, which we will have to convert to numerical value. Let's investigate them first.\n",
    "object_columns_df = loans.select_dtypes(include=['object'])\n",
    "print(object_columns_df.iloc[0])"
   ]
  },
  {
   "cell_type": "markdown",
   "metadata": {},
   "source": [
    "**Next steps:**\n",
    "\n",
    "- **Step 1** The columns listed below seem to be categorical, but first we should confirm the number of unique values in those columns. If the number is reasonable, we will encode these columns as dummy variables and keep them:\n",
    "\n",
    "    - **home_ownership:** home ownership status, can only be 1 of 4 categorical values according to the data dictionary,\n",
    "    - **verification_status:** indicates if income was verified by Lending Club,\n",
    "    - **term:** number of payments on the loan, either 36 or 60,\n",
    "    - **addr_state:** borrower's state of residence.\n",
    "\n",
    "\n",
    "- **Step 2** It looks like purpose and title columns may contain the same information. If so, we will keep just one of them:\n",
    "    - **purpose:** a category provided by the borrower for the loan request,\n",
    "    - **title:** loan title provided the borrower.\n",
    "\n",
    "\n",
    "- **Step 3** We will convert emp_length column to numerical one since the values have ordering (2 years of employment is less than 8 years):\n",
    "\n",
    "    - **emp_length:** number of years the borrower was employed upon time of application.\n",
    "\n",
    "\n",
    "- **Step 4** Here are also some columns that represent numeric values, that need to be converted:\n",
    "\n",
    "    - **int_rate:** interest rate of the loan in %,\n",
    "    - **revol_util:** revolving line utilization rate or the amount of credit the borrower is using relative to all available credit.\n",
    "    \n",
    "    \n",
    "- **Step 5** Listed below date features require some feature engineering for modeling purposes, we will remove them:\n",
    "    - earliest_cr_line: The month the borrower's earliest reported credit line was opened,\n",
    "    - last_credit_pull_d: The most recent month Lending Club pulled credit for this loan.\n",
    "    \n",
    "    \n",
    "- **Step 6** Column debt_settlement_flag has mostly one value, it will not bring much value to our model, we will remove it"
   ]
  },
  {
   "cell_type": "markdown",
   "metadata": {},
   "source": [
    "### Step 1 - encode columns as dummy"
   ]
  },
  {
   "cell_type": "code",
   "execution_count": 88,
   "metadata": {},
   "outputs": [
    {
     "name": "stdout",
     "output_type": "stream",
     "text": [
      "home_ownership \n",
      " ---------------------------------------- \n",
      " RENT        18869\n",
      "MORTGAGE    17669\n",
      "OWN          3050\n",
      "OTHER          96\n",
      "NONE            1\n",
      "Name: home_ownership, dtype: int64 \n",
      "\n",
      "verification_status \n",
      " ---------------------------------------- \n",
      " Not Verified       16851\n",
      "Verified           12833\n",
      "Source Verified    10001\n",
      "Name: verification_status, dtype: int64 \n",
      "\n",
      "emp_length \n",
      " ---------------------------------------- \n",
      " 10+ years    8894\n",
      "< 1 year     4563\n",
      "2 years      4386\n",
      "3 years      4092\n",
      "4 years      3431\n",
      "5 years      3278\n",
      "1 year       3233\n",
      "6 years      2226\n",
      "7 years      1769\n",
      "8 years      1481\n",
      "9 years      1258\n",
      "n/a          1074\n",
      "Name: emp_length, dtype: int64 \n",
      "\n",
      "term \n",
      " ---------------------------------------- \n",
      "  36 months    29002\n",
      " 60 months    10683\n",
      "Name: term, dtype: int64 \n",
      "\n",
      "addr_state \n",
      " ---------------------------------------- \n",
      " CA    7094\n",
      "NY    3811\n",
      "FL    2864\n",
      "TX    2729\n",
      "NJ    1850\n",
      "IL    1524\n",
      "PA    1515\n",
      "VA    1406\n",
      "GA    1396\n",
      "MA    1332\n",
      "OH    1221\n",
      "MD    1052\n",
      "AZ     878\n",
      "WA     841\n",
      "CO     788\n",
      "NC     787\n",
      "CT     754\n",
      "MI     722\n",
      "MO     685\n",
      "MN     613\n",
      "NV     497\n",
      "SC     472\n",
      "WI     453\n",
      "AL     451\n",
      "OR     450\n",
      "LA     436\n",
      "KY     327\n",
      "OK     299\n",
      "KS     271\n",
      "UT     259\n",
      "AR     245\n",
      "DC     212\n",
      "RI     199\n",
      "NM     190\n",
      "WV     177\n",
      "HI     173\n",
      "NH     172\n",
      "DE     113\n",
      "MT      85\n",
      "WY      83\n",
      "AK      81\n",
      "SD      63\n",
      "VT      54\n",
      "MS      19\n",
      "TN      17\n",
      "IN       7\n",
      "ID       6\n",
      "IA       5\n",
      "NE       5\n",
      "ME       2\n",
      "Name: addr_state, dtype: int64 \n",
      "\n"
     ]
    }
   ],
   "source": [
    "#We will explore purpose and title columns separately, as they might contain the same information.\n",
    "cols = ['home_ownership', 'verification_status', 'emp_length', 'term', 'addr_state']\n",
    "for c in cols:\n",
    "    print(c,'\\n','-'*40,'\\n',loans[c].value_counts(),'\\n')"
   ]
  },
  {
   "cell_type": "markdown",
   "metadata": {},
   "source": [
    "The column addr_state contains too many values to convert it to dummy, so we will remove that one and create dummies from the rest of clumns."
   ]
  },
  {
   "cell_type": "code",
   "execution_count": 89,
   "metadata": {
    "collapsed": true
   },
   "outputs": [],
   "source": [
    "dummy_df = pd.get_dummies(loans[[\"home_ownership\", \"verification_status\", \"term\"]])\n",
    "loans = pd.concat([loans, dummy_df], axis=1)\n",
    "loans = loans.drop([\"home_ownership\", \"verification_status\", \"term\", \"addr_state\"], axis=1)"
   ]
  },
  {
   "cell_type": "markdown",
   "metadata": {},
   "source": [
    "### Step 2 -  purpose vs title column"
   ]
  },
  {
   "cell_type": "code",
   "execution_count": 90,
   "metadata": {},
   "outputs": [
    {
     "name": "stdout",
     "output_type": "stream",
     "text": [
      "purpose \n",
      " ---------------------------------------- \n",
      " debt_consolidation    18654\n",
      "credit_card            5123\n",
      "other                  3980\n",
      "home_improvement       2974\n",
      "major_purchase         2182\n",
      "small_business         1823\n",
      "car                    1549\n",
      "wedding                 947\n",
      "medical                 693\n",
      "moving                  580\n",
      "house                   381\n",
      "vacation                378\n",
      "educational             318\n",
      "renewable_energy        103\n",
      "Name: purpose, dtype: int64 \n",
      "\n",
      "title \n",
      " ---------------------------------------- \n",
      " Debt Consolidation                          2189\n",
      "Debt Consolidation Loan                     1732\n",
      "Personal Loan                                661\n",
      "Consolidation                                515\n",
      "debt consolidation                           508\n",
      "Credit Card Consolidation                    357\n",
      "Home Improvement                             356\n",
      "Debt consolidation                           334\n",
      "Small Business Loan                          329\n",
      "Credit Card Loan                             319\n",
      "Personal                                     309\n",
      "Consolidation Loan                           255\n",
      "Home Improvement Loan                        249\n",
      "personal loan                                234\n",
      "personal                                     220\n",
      "Loan                                         213\n",
      "Wedding Loan                                 209\n",
      "consolidation                                205\n",
      "Car Loan                                     204\n",
      "Other Loan                                   192\n",
      "Credit Card Payoff                           155\n",
      "Wedding                                      154\n",
      "Major Purchase Loan                          145\n",
      "Credit Card Refinance                        144\n",
      "Consolidate                                  127\n",
      "Medical                                      122\n",
      "Credit Card                                  119\n",
      "home improvement                             112\n",
      "My Loan                                       93\n",
      "Credit Cards                                  92\n",
      "                                            ... \n",
      "Lower Rate = Happier Me                        1\n",
      "goodbye credit card payments                   1\n",
      "Personal loan for new apt                      1\n",
      "loAn 1                                         1\n",
      "fix car                                        1\n",
      "pay off cridit card                            1\n",
      "consolidate and reduce credit card rates       1\n",
      "Spring Wedding Expenses                        1\n",
      "Heaven's Truck                                 1\n",
      "BOA Gold Option Loan Payoff                    1\n",
      "Pay off that Discover Card                     1\n",
      "Revision Rhinoplasty**Please help**            1\n",
      "Paying for own wedding                         1\n",
      "creditcard                                     1\n",
      "ASHLOAN                                        1\n",
      "Dave Bike                                      1\n",
      "Back on Track!                                 1\n",
      "Smart Debt Elimination Process                 1\n",
      "Rock Video & Games Startup Funding             1\n",
      "Get debt free                                  1\n",
      "donedone                                       1\n",
      "trucking biz                                   1\n",
      "Vaporizing My Debt!                            1\n",
      "BAC stock purchase loan, target $25            1\n",
      "Cosmetic Teeth Nationwide TV Advertising       1\n",
      "NOFISH2                                        1\n",
      "Get Rid of the Debt!                           1\n",
      "Payoff 2011                                    1\n",
      "Boat of my dreams                              1\n",
      "auto                                           1\n",
      "Name: title, Length: 19581, dtype: int64 \n",
      "\n"
     ]
    }
   ],
   "source": [
    "print(\"purpose\",'\\n','-'*40,'\\n',loans[\"purpose\"].value_counts(),'\\n')\n",
    "print(\"title\",'\\n','-'*40,'\\n',loans[\"title\"].value_counts(),'\\n')"
   ]
  },
  {
   "cell_type": "markdown",
   "metadata": {},
   "source": [
    "It look like both columns contain the same information. We are going to keep only 'purpose' column, because it has less values. Moreover 'title' column has data quality issues, as it contains the same information repeated with small modification e.g. Debt Consolidation and Debt Consolidation Loan and debt consolidation."
   ]
  },
  {
   "cell_type": "code",
   "execution_count": 91,
   "metadata": {
    "collapsed": true
   },
   "outputs": [],
   "source": [
    "dummy_df = pd.get_dummies(loans[\"purpose\"])\n",
    "loans = pd.concat([loans, dummy_df], axis=1)\n",
    "loans = loans.drop([\"title\", \"purpose\"], axis=1)"
   ]
  },
  {
   "cell_type": "markdown",
   "metadata": {},
   "source": [
    "### Step 3 - convert emp_length column to numerical"
   ]
  },
  {
   "cell_type": "code",
   "execution_count": 92,
   "metadata": {},
   "outputs": [],
   "source": [
    "mapping_dict = {\n",
    "    \"emp_length\": {\n",
    "        \"10+ years\": 10,\n",
    "        \"9 years\": 9,\n",
    "        \"8 years\": 8,\n",
    "        \"7 years\": 7,\n",
    "        \"6 years\": 6,\n",
    "        \"5 years\": 5,\n",
    "        \"4 years\": 4,\n",
    "        \"3 years\": 3,\n",
    "        \"2 years\": 2,\n",
    "        \"1 year\": 1,\n",
    "        \"< 1 year\": 0,\n",
    "        \"n/a\": 0\n",
    "    }\n",
    "}\n",
    "\n",
    "loans = loans.replace(mapping_dict)"
   ]
  },
  {
   "cell_type": "markdown",
   "metadata": {},
   "source": [
    "### Step 4 - convert int_rate ans revol_util to numerical"
   ]
  },
  {
   "cell_type": "code",
   "execution_count": 93,
   "metadata": {
    "collapsed": true
   },
   "outputs": [],
   "source": [
    "loans['int_rate'] = loans['int_rate'].str.rstrip('%').astype(float)\n",
    "loans['revol_util'] = loans['revol_util'].str.rstrip('%').astype(float)"
   ]
  },
  {
   "cell_type": "markdown",
   "metadata": {},
   "source": [
    "### Step 5 - Removing two date features"
   ]
  },
  {
   "cell_type": "code",
   "execution_count": 94,
   "metadata": {
    "collapsed": true
   },
   "outputs": [],
   "source": [
    "loans = loans.drop([\"last_credit_pull_d\", \"earliest_cr_line\"], axis=1)"
   ]
  },
  {
   "cell_type": "markdown",
   "metadata": {},
   "source": [
    "### Step 6 - Removing debt_settlement_flag"
   ]
  },
  {
   "cell_type": "code",
   "execution_count": 95,
   "metadata": {},
   "outputs": [
    {
     "data": {
      "text/plain": [
       "N    39535\n",
       "Y      150\n",
       "Name: debt_settlement_flag, dtype: int64"
      ]
     },
     "execution_count": 95,
     "metadata": {},
     "output_type": "execute_result"
    }
   ],
   "source": [
    "loans[\"debt_settlement_flag\"].value_counts()"
   ]
  },
  {
   "cell_type": "code",
   "execution_count": 96,
   "metadata": {
    "collapsed": true
   },
   "outputs": [],
   "source": [
    "loans = loans.drop([\"debt_settlement_flag\"], axis=1)"
   ]
  },
  {
   "cell_type": "code",
   "execution_count": 97,
   "metadata": {},
   "outputs": [
    {
     "data": {
      "text/html": [
       "<div>\n",
       "<style>\n",
       "    .dataframe thead tr:only-child th {\n",
       "        text-align: right;\n",
       "    }\n",
       "\n",
       "    .dataframe thead th {\n",
       "        text-align: left;\n",
       "    }\n",
       "\n",
       "    .dataframe tbody tr th {\n",
       "        vertical-align: top;\n",
       "    }\n",
       "</style>\n",
       "<table border=\"1\" class=\"dataframe\">\n",
       "  <thead>\n",
       "    <tr style=\"text-align: right;\">\n",
       "      <th></th>\n",
       "      <th>loan_amnt</th>\n",
       "      <th>int_rate</th>\n",
       "      <th>installment</th>\n",
       "      <th>emp_length</th>\n",
       "      <th>annual_inc</th>\n",
       "      <th>loan_status</th>\n",
       "      <th>dti</th>\n",
       "      <th>delinq_2yrs</th>\n",
       "      <th>inq_last_6mths</th>\n",
       "      <th>open_acc</th>\n",
       "      <th>pub_rec</th>\n",
       "      <th>revol_bal</th>\n",
       "      <th>revol_util</th>\n",
       "      <th>total_acc</th>\n",
       "      <th>acc_now_delinq</th>\n",
       "      <th>delinq_amnt</th>\n",
       "      <th>tax_liens</th>\n",
       "      <th>home_ownership_MORTGAGE</th>\n",
       "      <th>home_ownership_NONE</th>\n",
       "      <th>home_ownership_OTHER</th>\n",
       "      <th>home_ownership_OWN</th>\n",
       "      <th>home_ownership_RENT</th>\n",
       "      <th>verification_status_Not Verified</th>\n",
       "      <th>verification_status_Source Verified</th>\n",
       "      <th>verification_status_Verified</th>\n",
       "      <th>term_ 36 months</th>\n",
       "      <th>term_ 60 months</th>\n",
       "      <th>car</th>\n",
       "      <th>credit_card</th>\n",
       "      <th>debt_consolidation</th>\n",
       "      <th>educational</th>\n",
       "      <th>home_improvement</th>\n",
       "      <th>house</th>\n",
       "      <th>major_purchase</th>\n",
       "      <th>medical</th>\n",
       "      <th>moving</th>\n",
       "      <th>other</th>\n",
       "      <th>renewable_energy</th>\n",
       "      <th>small_business</th>\n",
       "      <th>vacation</th>\n",
       "      <th>wedding</th>\n",
       "    </tr>\n",
       "  </thead>\n",
       "  <tbody>\n",
       "    <tr>\n",
       "      <th>0</th>\n",
       "      <td>5000.0</td>\n",
       "      <td>10.65</td>\n",
       "      <td>162.87</td>\n",
       "      <td>10</td>\n",
       "      <td>24000.0</td>\n",
       "      <td>1</td>\n",
       "      <td>27.65</td>\n",
       "      <td>0.0</td>\n",
       "      <td>1.0</td>\n",
       "      <td>3.0</td>\n",
       "      <td>0.0</td>\n",
       "      <td>13648.0</td>\n",
       "      <td>83.7</td>\n",
       "      <td>9.0</td>\n",
       "      <td>0.0</td>\n",
       "      <td>0.0</td>\n",
       "      <td>0.0</td>\n",
       "      <td>0</td>\n",
       "      <td>0</td>\n",
       "      <td>0</td>\n",
       "      <td>0</td>\n",
       "      <td>1</td>\n",
       "      <td>0</td>\n",
       "      <td>0</td>\n",
       "      <td>1</td>\n",
       "      <td>1</td>\n",
       "      <td>0</td>\n",
       "      <td>0</td>\n",
       "      <td>1</td>\n",
       "      <td>0</td>\n",
       "      <td>0</td>\n",
       "      <td>0</td>\n",
       "      <td>0</td>\n",
       "      <td>0</td>\n",
       "      <td>0</td>\n",
       "      <td>0</td>\n",
       "      <td>0</td>\n",
       "      <td>0</td>\n",
       "      <td>0</td>\n",
       "      <td>0</td>\n",
       "      <td>0</td>\n",
       "    </tr>\n",
       "    <tr>\n",
       "      <th>1</th>\n",
       "      <td>2500.0</td>\n",
       "      <td>15.27</td>\n",
       "      <td>59.83</td>\n",
       "      <td>0</td>\n",
       "      <td>30000.0</td>\n",
       "      <td>0</td>\n",
       "      <td>1.00</td>\n",
       "      <td>0.0</td>\n",
       "      <td>5.0</td>\n",
       "      <td>3.0</td>\n",
       "      <td>0.0</td>\n",
       "      <td>1687.0</td>\n",
       "      <td>9.4</td>\n",
       "      <td>4.0</td>\n",
       "      <td>0.0</td>\n",
       "      <td>0.0</td>\n",
       "      <td>0.0</td>\n",
       "      <td>0</td>\n",
       "      <td>0</td>\n",
       "      <td>0</td>\n",
       "      <td>0</td>\n",
       "      <td>1</td>\n",
       "      <td>0</td>\n",
       "      <td>1</td>\n",
       "      <td>0</td>\n",
       "      <td>0</td>\n",
       "      <td>1</td>\n",
       "      <td>1</td>\n",
       "      <td>0</td>\n",
       "      <td>0</td>\n",
       "      <td>0</td>\n",
       "      <td>0</td>\n",
       "      <td>0</td>\n",
       "      <td>0</td>\n",
       "      <td>0</td>\n",
       "      <td>0</td>\n",
       "      <td>0</td>\n",
       "      <td>0</td>\n",
       "      <td>0</td>\n",
       "      <td>0</td>\n",
       "      <td>0</td>\n",
       "    </tr>\n",
       "    <tr>\n",
       "      <th>2</th>\n",
       "      <td>2400.0</td>\n",
       "      <td>15.96</td>\n",
       "      <td>84.33</td>\n",
       "      <td>10</td>\n",
       "      <td>12252.0</td>\n",
       "      <td>1</td>\n",
       "      <td>8.72</td>\n",
       "      <td>0.0</td>\n",
       "      <td>2.0</td>\n",
       "      <td>2.0</td>\n",
       "      <td>0.0</td>\n",
       "      <td>2956.0</td>\n",
       "      <td>98.5</td>\n",
       "      <td>10.0</td>\n",
       "      <td>0.0</td>\n",
       "      <td>0.0</td>\n",
       "      <td>0.0</td>\n",
       "      <td>0</td>\n",
       "      <td>0</td>\n",
       "      <td>0</td>\n",
       "      <td>0</td>\n",
       "      <td>1</td>\n",
       "      <td>1</td>\n",
       "      <td>0</td>\n",
       "      <td>0</td>\n",
       "      <td>1</td>\n",
       "      <td>0</td>\n",
       "      <td>0</td>\n",
       "      <td>0</td>\n",
       "      <td>0</td>\n",
       "      <td>0</td>\n",
       "      <td>0</td>\n",
       "      <td>0</td>\n",
       "      <td>0</td>\n",
       "      <td>0</td>\n",
       "      <td>0</td>\n",
       "      <td>0</td>\n",
       "      <td>0</td>\n",
       "      <td>1</td>\n",
       "      <td>0</td>\n",
       "      <td>0</td>\n",
       "    </tr>\n",
       "  </tbody>\n",
       "</table>\n",
       "</div>"
      ],
      "text/plain": [
       "   loan_amnt  int_rate  installment  emp_length  annual_inc  loan_status  \\\n",
       "0     5000.0     10.65       162.87          10     24000.0            1   \n",
       "1     2500.0     15.27        59.83           0     30000.0            0   \n",
       "2     2400.0     15.96        84.33          10     12252.0            1   \n",
       "\n",
       "     dti  delinq_2yrs  inq_last_6mths  open_acc  pub_rec  revol_bal  \\\n",
       "0  27.65          0.0             1.0       3.0      0.0    13648.0   \n",
       "1   1.00          0.0             5.0       3.0      0.0     1687.0   \n",
       "2   8.72          0.0             2.0       2.0      0.0     2956.0   \n",
       "\n",
       "   revol_util  total_acc  acc_now_delinq  delinq_amnt  tax_liens  \\\n",
       "0        83.7        9.0             0.0          0.0        0.0   \n",
       "1         9.4        4.0             0.0          0.0        0.0   \n",
       "2        98.5       10.0             0.0          0.0        0.0   \n",
       "\n",
       "   home_ownership_MORTGAGE  home_ownership_NONE  home_ownership_OTHER  \\\n",
       "0                        0                    0                     0   \n",
       "1                        0                    0                     0   \n",
       "2                        0                    0                     0   \n",
       "\n",
       "   home_ownership_OWN  home_ownership_RENT  verification_status_Not Verified  \\\n",
       "0                   0                    1                                 0   \n",
       "1                   0                    1                                 0   \n",
       "2                   0                    1                                 1   \n",
       "\n",
       "   verification_status_Source Verified  verification_status_Verified  \\\n",
       "0                                    0                             1   \n",
       "1                                    1                             0   \n",
       "2                                    0                             0   \n",
       "\n",
       "   term_ 36 months  term_ 60 months  car  credit_card  debt_consolidation  \\\n",
       "0                1                0    0            1                   0   \n",
       "1                0                1    1            0                   0   \n",
       "2                1                0    0            0                   0   \n",
       "\n",
       "   educational  home_improvement  house  major_purchase  medical  moving  \\\n",
       "0            0                 0      0               0        0       0   \n",
       "1            0                 0      0               0        0       0   \n",
       "2            0                 0      0               0        0       0   \n",
       "\n",
       "   other  renewable_energy  small_business  vacation  wedding  \n",
       "0      0                 0               0         0        0  \n",
       "1      0                 0               0         0        0  \n",
       "2      0                 0               1         0        0  "
      ]
     },
     "execution_count": 97,
     "metadata": {},
     "output_type": "execute_result"
    }
   ],
   "source": [
    "loans.head(3)"
   ]
  },
  {
   "cell_type": "code",
   "execution_count": 98,
   "metadata": {},
   "outputs": [
    {
     "name": "stdout",
     "output_type": "stream",
     "text": [
      "<class 'pandas.core.frame.DataFrame'>\n",
      "Int64Index: 39685 entries, 0 to 39753\n",
      "Data columns (total 41 columns):\n",
      "loan_amnt                              39685 non-null float64\n",
      "int_rate                               39685 non-null float64\n",
      "installment                            39685 non-null float64\n",
      "emp_length                             39685 non-null int64\n",
      "annual_inc                             39685 non-null float64\n",
      "loan_status                            39685 non-null int64\n",
      "dti                                    39685 non-null float64\n",
      "delinq_2yrs                            39685 non-null float64\n",
      "inq_last_6mths                         39685 non-null float64\n",
      "open_acc                               39685 non-null float64\n",
      "pub_rec                                39685 non-null float64\n",
      "revol_bal                              39685 non-null float64\n",
      "revol_util                             39685 non-null float64\n",
      "total_acc                              39685 non-null float64\n",
      "acc_now_delinq                         39685 non-null float64\n",
      "delinq_amnt                            39685 non-null float64\n",
      "tax_liens                              39685 non-null float64\n",
      "home_ownership_MORTGAGE                39685 non-null uint8\n",
      "home_ownership_NONE                    39685 non-null uint8\n",
      "home_ownership_OTHER                   39685 non-null uint8\n",
      "home_ownership_OWN                     39685 non-null uint8\n",
      "home_ownership_RENT                    39685 non-null uint8\n",
      "verification_status_Not Verified       39685 non-null uint8\n",
      "verification_status_Source Verified    39685 non-null uint8\n",
      "verification_status_Verified           39685 non-null uint8\n",
      "term_ 36 months                        39685 non-null uint8\n",
      "term_ 60 months                        39685 non-null uint8\n",
      "car                                    39685 non-null uint8\n",
      "credit_card                            39685 non-null uint8\n",
      "debt_consolidation                     39685 non-null uint8\n",
      "educational                            39685 non-null uint8\n",
      "home_improvement                       39685 non-null uint8\n",
      "house                                  39685 non-null uint8\n",
      "major_purchase                         39685 non-null uint8\n",
      "medical                                39685 non-null uint8\n",
      "moving                                 39685 non-null uint8\n",
      "other                                  39685 non-null uint8\n",
      "renewable_energy                       39685 non-null uint8\n",
      "small_business                         39685 non-null uint8\n",
      "vacation                               39685 non-null uint8\n",
      "wedding                                39685 non-null uint8\n",
      "dtypes: float64(15), int64(2), uint8(24)\n",
      "memory usage: 6.4 MB\n"
     ]
    }
   ],
   "source": [
    "loans.info()"
   ]
  },
  {
   "cell_type": "markdown",
   "metadata": {},
   "source": [
    "## Making predictions"
   ]
  },
  {
   "cell_type": "markdown",
   "metadata": {},
   "source": [
    "In our target column we noticed class imbalance, which means that there are about 6 times more positive cases (with value 1), than negative cases (with value 0). It can cause issues with many machine learning algorithms. That is the reason why for our error metric we will not choose accurancy, but the False Positive Rate and True Positive Rate. We will optimize:\n",
    "- high recall (true positive rate),\n",
    "- low fall-out (false positive rate).\n",
    "\n",
    "**False positive rate** is the number of false positives divided by the number of false positives plus the number of true negatives. This divides all the cases where we thought a loan would be paid off but it wasn't by all the loans that weren't paid off:\n",
    "*fpr = fp / (fp + tn)*\n",
    "\n",
    "**True positive rate** is the number of true positives divided by the number of true positives plus the number of false negatives. This divides all the cases where we thought a loan would be paid off and it was by all the loans that were paid off:\n",
    "*tpr = tp / (tp + fn)*"
   ]
  },
  {
   "cell_type": "markdown",
   "metadata": {},
   "source": [
    "We will start with logistic regression model."
   ]
  },
  {
   "cell_type": "markdown",
   "metadata": {},
   "source": [
    "## Logistic Regression"
   ]
  },
  {
   "cell_type": "markdown",
   "metadata": {},
   "source": [
    "Due to class imbalance issue we will set class_weight to 'balanced' in our model. This tells scikit-learn to penalize the misclassification of the minority class during the training process. This would mean that for the classifier, correctly classifying a row where loan_status is 0 is 6 times more important than correctly classifying a row where loan_status is 1.\n",
    "\n",
    "Also for prediction we use cross validation to make sure that we will not train model and make predictions on the same set of data."
   ]
  },
  {
   "cell_type": "code",
   "execution_count": 99,
   "metadata": {},
   "outputs": [
    {
     "name": "stdout",
     "output_type": "stream",
     "text": [
      "0.5869102518623626\n",
      "0.6273355892305429\n"
     ]
    }
   ],
   "source": [
    "from sklearn.linear_model import LogisticRegression\n",
    "from sklearn.model_selection import cross_val_predict\n",
    "\n",
    "features = loans[loans.columns.drop(\"loan_status\")]\n",
    "target = loans[\"loan_status\"]\n",
    "\n",
    "lr = LogisticRegression(class_weight = 'balanced')\n",
    "predictions = cross_val_predict(lr, features, target, cv=3)\n",
    "predictions = pd.Series(predictions)\n",
    "\n",
    "fp = len(predictions[(predictions==1) & (loans['loan_status']==0)])\n",
    "tn = len(predictions[(predictions==0) & (loans['loan_status']==0)])\n",
    "fpr = fp/(fp+tn)\n",
    "\n",
    "tp = len(predictions[(predictions==1) & (loans['loan_status']==1)])\n",
    "fn = len(predictions[(predictions==0) & (loans['loan_status']==1)])\n",
    "tpr = tp/(tp+fn)\n",
    "\n",
    "print(fpr)\n",
    "print(tpr)"
   ]
  },
  {
   "cell_type": "markdown",
   "metadata": {},
   "source": [
    "Our true positive rate is equal to around 63% and false positive rate is around 59%. It's good that the false positive rate is lower because it means that we'll be able to do a better job at avoiding bad loans than if we funded everything. However, we'd only ever decide to fund 63% of the total loans (true positive rate), so we'd immediately reject a good amount of loans.\n",
    "\n",
    "To improve our model we can manualy set class weight. The below dictionary will impose a penalty of 10 for misclassifying a 0, and a penalty of 1 for misclassifying a 1."
   ]
  },
  {
   "cell_type": "code",
   "execution_count": 100,
   "metadata": {},
   "outputs": [
    {
     "name": "stdout",
     "output_type": "stream",
     "text": [
      "0.20060305072720824\n",
      "0.21279976460203032\n"
     ]
    }
   ],
   "source": [
    "penalty = {\n",
    "    0: 10,\n",
    "    1: 1\n",
    "}\n",
    "\n",
    "lr = LogisticRegression(class_weight = penalty)\n",
    "predictions = cross_val_predict(lr, features, target, cv=3)\n",
    "predictions = pd.Series(predictions)\n",
    "\n",
    "fp = len(predictions[(predictions==1) & (loans['loan_status']==0)])\n",
    "tn = len(predictions[(predictions==0) & (loans['loan_status']==0)])\n",
    "fpr = fp/(fp+tn)\n",
    "\n",
    "tp = len(predictions[(predictions==1) & (loans['loan_status']==1)])\n",
    "fn = len(predictions[(predictions==0) & (loans['loan_status']==1)])\n",
    "tpr = tp/(tp+fn)\n",
    "\n",
    "print(fpr)\n",
    "print(tpr)"
   ]
  },
  {
   "cell_type": "markdown",
   "metadata": {},
   "source": [
    "It looks like assigning manual penalties lowered the false positive rate to about 20%, and thus lowered our risk. This comes at the expense of true positive rate, we're missing opportunities to fund more loans and potentially make more money. "
   ]
  },
  {
   "cell_type": "markdown",
   "metadata": {},
   "source": [
    "## Random Forest"
   ]
  },
  {
   "cell_type": "markdown",
   "metadata": {},
   "source": [
    "We are going to apply more complex algorithm - random forest, which is able to work with nonlinear data. This model can give us more accurancy, because of columns that correlate nonlinearly with loan_status."
   ]
  },
  {
   "cell_type": "code",
   "execution_count": 101,
   "metadata": {},
   "outputs": [
    {
     "name": "stdout",
     "output_type": "stream",
     "text": [
      "0.9659453706988294\n",
      "0.9693099897013389\n"
     ]
    }
   ],
   "source": [
    "from sklearn.ensemble import RandomForestClassifier\n",
    "from sklearn.cross_validation import cross_val_predict\n",
    "\n",
    "penalty = {\n",
    "    0: 10,\n",
    "    1: 1\n",
    "}\n",
    "\n",
    "rfc = RandomForestClassifier(random_state=1,class_weight = 'balanced')\n",
    "predictions = cross_val_predict(rfc, features, target, cv=3)\n",
    "predictions = pd.Series(predictions)\n",
    "\n",
    "fp = len(predictions[(predictions==1) & (loans['loan_status']==0)])\n",
    "tn = len(predictions[(predictions==0) & (loans['loan_status']==0)])\n",
    "fpr = fp/(fp+tn)\n",
    "\n",
    "tp = len(predictions[(predictions==1) & (loans['loan_status']==1)])\n",
    "fn = len(predictions[(predictions==0) & (loans['loan_status']==1)])\n",
    "tpr = tp/(tp+fn)\n",
    "\n",
    "print(fpr)\n",
    "print(tpr)"
   ]
  },
  {
   "cell_type": "markdown",
   "metadata": {},
   "source": [
    "## Conclusion"
   ]
  },
  {
   "cell_type": "markdown",
   "metadata": {},
   "source": [
    "Random Forest algorithm didn't improve the false positive rate. This model is still predicting mostly 1s, which is the consequence of class imbalance. \n",
    "\n",
    "Our best model has false positive rate of 20%, and true positive rate of 21%. It means that the interest rate should be high enough to cover the losses from 20% of borrowers who will default. Also according to this model we would accept only 21% of borrowers, who would pay back everything, so the profit they will make should be high enough to cover losses."
   ]
  }
 ],
 "metadata": {
  "kernelspec": {
   "display_name": "Python 3",
   "language": "python",
   "name": "python3"
  },
  "language_info": {
   "codemirror_mode": {
    "name": "ipython",
    "version": 3
   },
   "file_extension": ".py",
   "mimetype": "text/x-python",
   "name": "python",
   "nbconvert_exporter": "python",
   "pygments_lexer": "ipython3",
   "version": "3.6.3"
  }
 },
 "nbformat": 4,
 "nbformat_minor": 2
}
